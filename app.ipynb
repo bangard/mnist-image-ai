{
 "cells": [
  {
   "cell_type": "code",
   "execution_count": 18,
   "id": "1c05e7fb-d7b9-44f5-9d71-d76072fb967d",
   "metadata": {},
   "outputs": [
    {
     "name": "stdout",
     "output_type": "stream",
     "text": [
      "Overwriting app.py\n"
     ]
    }
   ],
   "source": [
    "%%writefile app.py\n",
    "import streamlit as st\n",
    "import cv2\n",
    "import numpy as np\n",
    "\n",
    "import matplotlib.pyplot as plt\n",
    "import os\n",
    "\n",
    "from PIL import Image, ImageOps\n",
    "from numpy import argmax\n",
    "\n",
    "from tensorflow import keras\n",
    "from tensorflow.keras import layers\n",
    "from tensorflow.keras.models import Sequential\n",
    "\n",
    "from tensorflow.keras.preprocessing.image import load_img\n",
    "from tensorflow.keras.preprocessing.image import img_to_array\n",
    "\n",
    "st.title(\"MNIST Classification\")\n",
    "st.header(\"Please input an image to be classified:\")\n",
    "st.text(\"Created by MML\")\n",
    "\n",
    "@st.cache(allow_output_mutation=True)\n",
    "\n",
    "def load_image(image):\n",
    "    # img = load_img(filename, grayscale=True, target_size=(28,28))\n",
    "    # img = img_to_array(img)\n",
    "    # img = img.reshape(1, 28, 28, 1)\n",
    "    # img = img.astype('float32')\n",
    "    # img = img / 255.0\n",
    "    \n",
    "    size = (28, 28)\n",
    "    image = ImageOps.fit(image, size, Image.ANTIALIAS)\n",
    "    #turn the image into a numpy array\n",
    "    image_array = np.asarray(image)\n",
    "    image_array = image_array.reshape(1, 28, 28, 1)\n",
    "    normalized_image_array = (image_array.astype(np.float32) / 255)\n",
    "    return normalized_image_array\n",
    "\n",
    "def teachable_machine_classification(img, weights_file):\n",
    "    img = load_image(img)\n",
    "    model = keras.models.load_model(weights_file)\n",
    "    # model.fit(trainX, trainY, epochs=10, batch_size=32, verbose=0)\n",
    "    predict_value = model.predict(img)\n",
    "    prediction=predict_value.round()\n",
    "    digit = argmax(predict_value)\n",
    "    return digit, prediction\n",
    "\n",
    "\n",
    "uploaded_file = st.file_uploader(\"Choose an Number Image...\", type=\"jpg\")\n",
    "\n",
    "if uploaded_file is not None:\n",
    "    image = Image.open(uploaded_file)\n",
    "    st.image(image, caption='Uploaded file', use_column_width=True)\n",
    "    st.write(\"\")\n",
    "    st.write(\"Classifying...\")\n",
    "    digit, perc = teachable_machine_classification(image, 'number_recognize.h5')\n",
    "    # st.write(digit)\n",
    "    st.write(\"It's <\", digit , \">. confidence level:\", perc)"
   ]
  },
  {
   "cell_type": "code",
   "execution_count": null,
   "id": "e6f7d016-dd74-47ae-8f69-efb3118796b6",
   "metadata": {},
   "outputs": [],
   "source": []
  }
 ],
 "metadata": {
  "kernelspec": {
   "display_name": ".TF2",
   "language": "python",
   "name": ".tf2"
  },
  "language_info": {
   "codemirror_mode": {
    "name": "ipython",
    "version": 3
   },
   "file_extension": ".py",
   "mimetype": "text/x-python",
   "name": "python",
   "nbconvert_exporter": "python",
   "pygments_lexer": "ipython3",
   "version": "3.7.9"
  }
 },
 "nbformat": 4,
 "nbformat_minor": 5
}
